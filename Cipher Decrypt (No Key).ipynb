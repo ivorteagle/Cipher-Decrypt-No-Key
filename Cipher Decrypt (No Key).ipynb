{
 "cells": [
  {
   "cell_type": "code",
   "execution_count": 1,
   "id": "e8c7ddc4",
   "metadata": {},
   "outputs": [],
   "source": [
    "import itertools\n",
    "import string\n",
    "\n",
    "# expected frequencies of English letters\n",
    "frequencies = (0.0749, 0.0129, 0.0354, 0.0362, 0.1400, 0.0218, 0.0174, 0.0422, 0.0665, 0.0027, 0.0047,\n",
    "                0.0357, 0.0339, 0.0674, 0.0737, 0.0243, 0.0026, 0.0614, 0.0695, 0.0985, 0.0300, 0.0116,\n",
    "                0.0169, 0.0028, 0.0164, 0.0004)\n",
    "\n",
    "def freq_analysis(text):\n",
    "    # calculate letter frequencies\n",
    "    text = [t for t in text.lower() if t in string.ascii_lowercase]\n",
    "    freq = [0] * 26\n",
    "    total = float(len(text))\n",
    "    for l in text:\n",
    "        freq[ord(l) - ord('a')] += 1\n",
    "        \n",
    "    # calculate absolute differences between expected and actual (ciphertext) letter frequencies\n",
    "    return sum(abs(f / total - E) for f, E in zip(freq, frequencies))\n",
    "\n",
    "def vigenere(ciphertext, key_min_size=1, key_max_size=20):\n",
    "    best_keys = []\n",
    "    text_letters = [c for c in ciphertext.lower() if c in string.ascii_lowercase]\n",
    "\n",
    "    # iterate through possible key lengths\n",
    "    for key_length in range(key_min_size, key_max_size):\n",
    "        key = [None] * key_length\n",
    "        for key_index in range(key_length):\n",
    "            # take letters at current key position\n",
    "            letters = \"\".join(itertools.islice(text_letters, key_index, None, key_length))\n",
    "            shifts = []\n",
    "            for key_char in string.ascii_lowercase:\n",
    "                # frequency analysis for decrypted text\n",
    "                shifts.append(\n",
    "                    (freq_analysis(decrypt_vigenere(letters, key_char)), key_char)\n",
    "                )\n",
    "            # take key character with minimum frequency analysis value    \n",
    "            key[key_index] = min(shifts, key=lambda x: x[0])[1]\n",
    "        best_keys.append(\"\".join(key))\n",
    "    best_keys.sort(key=lambda key: freq_analysis(decrypt_vigenere(ciphertext, key)))\n",
    "    \n",
    "    # return key\n",
    "    return best_keys[:1]\n",
    "\n",
    "def decrypt_vigenere(ciphertext, keyword):\n",
    "    decrypted_text = ''\n",
    "    keyword = keyword.upper()  \n",
    "    keyword_index = 0\n",
    "    for char in ciphertext:\n",
    "        if char.isalpha():\n",
    "            shift = ord(keyword[keyword_index % len(keyword)]) - ord('A')\n",
    "            if char.isupper():\n",
    "                decrypted_text += chr((ord(char) - shift - ord('A')) % 26 + ord('A'))\n",
    "            else:\n",
    "                decrypted_text += chr((ord(char) - shift - ord('a')) % 26 + ord('a'))\n",
    "            keyword_index += 1\n",
    "        else:\n",
    "            decrypted_text += char\n",
    "\n",
    "    return decrypted_text"
   ]
  },
  {
   "cell_type": "code",
   "execution_count": 2,
   "id": "a3e2dd75",
   "metadata": {},
   "outputs": [
    {
     "name": "stdout",
     "output_type": "stream",
     "text": [
      "Ciphertext: FHVQHHDMAQRRCXLTMZNEISMESITAOUDAENOCQRYKIOTWJDIKOYKRBUQADELAMMAFOWDAAPCOXITLNPIBVEAWKKDIOUQRRXWJOJYQRKRBJGBBIRZDXBOZGTEZBBJSBEGCKSHJTPRURGBHBIBGTEZBTYTCNXAENMWNOVNLVLXJENVFTYOEWTBRDIJDAASWYQOSTXYTWSFHZCTNTQPXEZPBPPZBHEKRXIEIAEOWBXOTWEUNXDHDEIYFHFXXOOTVFAIILQFNRDEIKFKNOZKRRMXKFTVSHKSGCUXBZCVWHNEBUQFZBXKFPBBERXWFOGVZHZCYWDMQQYVCHBBZVZGZXZXAKXFOYSLZEIQTERBMWGIVZTYOJQIKXSEEOKKUAVYPLVLASWSATYOKZAGFUSYKEHBMNYPCIKAWIEPEUPHNMGYMBFBFUSWHXWZVEXEXRDMVKMADEVFHKRXOAKEQDUOEEGPGMCYBBOTQNZFVOEOWPRZHVRTODWAQAXYHZUVFQLWSLDDMRPHRFBJGTRPAGEKAAVQNLRWXHEAFXIWOBWMRHETZPBADQANECSXRIVTFHRDGKMIAIHFUGKWAZQWZVENERROTKRXOUOTQSKSHJSQNYASYNPTWZMKVYNPONSQAIDAWTQNYTIIBJGBBPETOBREPVYLVDMDEXHNLZMWKIBFQLWDAAHWAARKYKAALZKEOZXNIMAOEZXWKCBBDIEQTYOTQMSYOKAIVFQTWYKPHIAPTYOGBOTYAWZXFUFWBFSKOIOWPRZTYOPDIBRTOLCXSAAOGREOWENDVDGZXBWITBETDIAKMMZKHRZIENMFEMPMHJSBVFUKSHJAVQYYKBNJKBUQLFCLKFBUQTNYYERAGZADOWWRBVOLVCPWSIZMTKOKKFVBSRVKMYOVFQQLOGYEAVZCVKAKMMJUTYYNPAUBFHVBHNAAVETVBHNALVETRXMUOCASFVWTHEZRXAKSOAIVVFTFBXIIVQKOLLRLUBGUNXIHQRABU\n",
      "\n",
      "Key: marktwain\n",
      "\n",
      "Plaintext: THEGOLDENERASEPTEMBERITISAGOODTHINGPERHAPSTOWRITEFORTHEAMUSEMENTOFTHEPUBLICBUTITISAFARHIGHERANDNOBLERTHINGTOWRITEFORTHEIRINSTRUCTIONTHEIRPROFITTHEIRACTUALANDTANGIBLEBENEFITTHELATTERISTHESOLEOBJECTOFTHISARTICLEIFITPROVETHEMEANSOFRESTORINGTOHEALTHONESOLITARYSUFFERERAMONGMYRACEOFLIGHTINGUPONCEMORETHEFIREOFHOPEANDJOYINHISFADEDEYESOFBRINGINGBACKTOHISDEADHEARTAGAINTHEQUICKGENEROUSIMPULSESOFOTHERDAYSISHALLBEAMPLYREWARDEDFORMYLABORMYSOULWILLBEPERMEATEDWITHTHESACREDDELIGHTACHRISTIANFEELSWHENHEHASDONEAGOODUNSELFISHDEEDHAVINGLEDAPUREANDBLAMELESSLIFEIAMJUSTIFIEDINBELIEVINGTHATNOMANWHOKNOWSMEWILLREJECTTHESUGGESTIONSIAMABOUTTOMAKEOUTOFFEARTHATIAMTRYINGTODECEIVEHIMLETTHEPUBLICDOITSELFTHEHONORTOREADMYEXPERIENCEINDOCTORINGACOLDASHEREINSETFORTHANDTHENFOLLOWINMYFOOTSTEPSWHENTHEWHITEHOUSEWASBURNEDINVIRGINIAILOSTMYHOMEMYHAPPINESSMYCONSTITUTIONANDMYTRUNKTHELOSSOFTHETWOFIRSTNAMEDARTICLESWASAMATTEROFNOGREATCONSEQUENCESINCEAHOMEWITHOUTAMOTHERORASISTERORADISTANTYOUNGFEMALERELATIVEINITTOREMINDYOUBYPUTTINGYOURSOI\n"
     ]
    }
   ],
   "source": [
    "with open(\"cipherNoKey.txt\", \"r\") as cipher_file: # file containing ciphertext\n",
    "    ciphertext = cipher_file.read()\n",
    "\n",
    "print(f\"Ciphertext: {ciphertext}\")\n",
    "\n",
    "for key in reversed(vigenere(ciphertext)):\n",
    "    print()\n",
    "    print(f\"Key: {key}\")\n",
    "    print()\n",
    "    plaintext = decrypt_vigenere(ciphertext, key)\n",
    "    print(f\"Plaintext: {plaintext}\")\n",
    "\n",
    "    with open(\"plainNoKey.txt\", \"w\") as plain_file: # file to write (decrypted) plaintext to\n",
    "        plain_file.write(plaintext)"
   ]
  }
 ],
 "metadata": {
  "kernelspec": {
   "display_name": "Python 3 (ipykernel)",
   "language": "python",
   "name": "python3"
  },
  "language_info": {
   "codemirror_mode": {
    "name": "ipython",
    "version": 3
   },
   "file_extension": ".py",
   "mimetype": "text/x-python",
   "name": "python",
   "nbconvert_exporter": "python",
   "pygments_lexer": "ipython3",
   "version": "3.11.4"
  }
 },
 "nbformat": 4,
 "nbformat_minor": 5
}
